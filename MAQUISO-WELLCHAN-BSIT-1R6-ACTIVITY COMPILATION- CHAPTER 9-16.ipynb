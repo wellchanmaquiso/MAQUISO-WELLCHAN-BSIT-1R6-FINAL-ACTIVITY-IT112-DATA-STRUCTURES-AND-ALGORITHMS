{
 "cells": [
  {
   "cell_type": "code",
   "execution_count": 6,
   "id": "found-tissue",
   "metadata": {},
   "outputs": [
    {
     "name": "stdout",
     "output_type": "stream",
     "text": [
      "Discuss your learnings on Chapter 9, Minimum of 200 characters\n",
      "\n",
      "I watched the tutorials on Chapter 9 and I learned something that the Graph is like conecpt of connecting lines to one another but it is non-linear data\n",
      "It consisting of nodes and edges. The nodes are a basic unit and it contain data and also may link to other nodes\n",
      "Also the nodes refereed to as vertices and and the edges are lines or arcs that connect any two nodes in the graph\n",
      "The best example of graphs with nodes with vertices and edges are travelling to places using Google Map, Facebook by suggesting or adding friends\n",
      "And lastly some flighting routes, when you are going to travel and explore the world.\n"
     ]
    }
   ],
   "source": [
    "print (\"Discuss your learnings on Chapter 9, Minimum of 200 characters\")\n",
    "\n",
    "print (\"\\nI watched the tutorials on Chapter 9 and I learned something that the Graph is like conecpt of connecting lines to one another but it is non-linear data\")\n",
    "print (\"It consisting of nodes and edges. The nodes are a basic unit and it contain data and also may link to other nodes\")\n",
    "print (\"Also the nodes refereed to as vertices and and the edges are lines or arcs that connect any two nodes in the graph\")\n",
    "print (\"The best example of graphs with nodes with vertices and edges are travelling to places using Google Map, Facebook by suggesting or adding friends\")\n",
    "print (\"And lastly some flighting routes, when you are going to travel and explore the world.\")\n"
   ]
  },
  {
   "cell_type": "code",
   "execution_count": 9,
   "id": "healthy-monitoring",
   "metadata": {},
   "outputs": [
    {
     "name": "stdout",
     "output_type": "stream",
     "text": [
      "Discuss your learnings on Chapter 10, Minimum of 200 characters\n",
      "\n",
      " I watched the tutorials on Chapter 10 and I learned something that the Binary search is like searching a decimal through index\n",
      "Also Binary search is like a fast search algorithm with a run time complexity. It is like a google that have been automatically \n",
      "In order the Binary Search works, first, we shall determine half of the array by using the formula mid= low + high - low\n",
      "Without that formula, we can't search. But the most importantly, we need that formula in order to search binary\n",
      " After that, the program works perfectly. But I follow the instruction on the video but I understand how to do it.\n"
     ]
    }
   ],
   "source": [
    "print (\"Discuss your learnings on Chapter 10, Minimum of 200 characters\")\n",
    "\n",
    "print (\"\\n I watched the tutorials on Chapter 10 and I learned something that the Binary search is like searching a decimal through index\")\n",
    "print (\"Also Binary search is like a fast search algorithm with a run time complexity. It is like a google that have been automatically \")\n",
    "print(\"In order the Binary Search works, first, we shall determine half of the array by using the formula mid= low + high - low\")\n",
    "print(\"Without that formula, we can't search. But the most importantly, we need that formula in order to search binary\")\n",
    "print(\" After that, the program works perfectly. But I follow the instruction on the video but I understand how to do it.\")"
   ]
  },
  {
   "cell_type": "code",
   "execution_count": 10,
   "id": "experimental-awareness",
   "metadata": {},
   "outputs": [
    {
     "name": "stdout",
     "output_type": "stream",
     "text": [
      "Discuss your learnings on Chapter 11, Minimum of 200 characters\n",
      "\n",
      " I watched the tutorials on Chapter 11 and I learned something that Bubble sort is like arranging or sorting the index\n",
      "Also Bubble Sort is simple algorithm in which we can sort, from what I have watched that when it comes of sorting, it can carry two index to sort \n",
      "In this way, it can sort faster than normal. Also there is a example by which I can understand the bubble sort starts with very first two elements\n",
      ", comparing them to check which one is a greater number. Also there is a algorithm or code on how to do it but I practiced it and running the program effectively\n",
      "Also there is a pseudocode and it has some variables on it. I think this chapter will help me how to sort when it comes of programming.\n"
     ]
    }
   ],
   "source": [
    "print (\"Discuss your learnings on Chapter 11, Minimum of 200 characters\")\n",
    "\n",
    "print(\"\\n I watched the tutorials on Chapter 11 and I learned something that Bubble sort is like arranging or sorting the index\")\n",
    "print(\"Also Bubble Sort is simple algorithm in which we can sort, from what I have watched that when it comes of sorting, it can carry two index to sort \")\n",
    "print(\"In this way, it can sort faster than normal. Also there is a example by which I can understand the bubble sort starts with very first two elements\")\n",
    "print(\", comparing them to check which one is a greater number. Also there is a algorithm or code on how to do it but I practiced it and running the program effectively\")\n",
    "print(\"Also there is a pseudocode and it has some variables on it. I think this chapter will help me how to sort when it comes of programming.\")"
   ]
  },
  {
   "cell_type": "code",
   "execution_count": 1,
   "id": "stunning-handy",
   "metadata": {},
   "outputs": [
    {
     "name": "stdout",
     "output_type": "stream",
     "text": [
      "Discuss your learnings on Chapter 12, Minimum of 200 characters\n",
      "\n",
      " I watched the tutorials on Chapter 12 and I learned that unlike Bubble Sort, there is another type of sorting algorithm, which is the Quick Sort\n",
      "Quick Sort is the best sorting algorithm which implements the divide and conquer concept. From what I observed between the diferrence\n",
      "of the two sorting algorithm which is a Bubble Sort and Quick Sort, given that average case for Bubble Sort is the worst case for Quick Sort,\n",
      "it is safe to say that Quick Sort is the superior sorting algorithm. On the tutorial video, there is an example but it is understandable.\n"
     ]
    }
   ],
   "source": [
    "print (\"Discuss your learnings on Chapter 12, Minimum of 200 characters\")\n",
    "\n",
    "print(\"\\n I watched the tutorials on Chapter 12 and I learned that unlike Bubble Sort, there is another type of sorting algorithm, which is the Quick Sort\")\n",
    "print(\"Quick Sort is the best sorting algorithm which implements the divide and conquer concept. From what I observed between the diferrence\")\n",
    "print(\"of the two sorting algorithm which is a Bubble Sort and Quick Sort, given that average case for Bubble Sort is the worst case for Quick Sort,\")\n",
    "print(\"it is safe to say that Quick Sort is the superior sorting algorithm. On the tutorial video, there is an example but it is understandable.\")\n"
   ]
  },
  {
   "cell_type": "code",
   "execution_count": 2,
   "id": "signal-truck",
   "metadata": {},
   "outputs": [
    {
     "name": "stdout",
     "output_type": "stream",
     "text": [
      "Discuss your learnings on Chapter 13, Minimum of 200 characters\n",
      "I watched the tutorials on Chapter 13 and I learned something about Insertion Sort, which it discussed on tutorial video or in Computer Programming 2\n",
      " It is a simple sorting algorithm that is the best for small list. It is much less effcient on large lists than more advanced algorithms\n",
      "such as quicksort, heapsort or merge sort. The best example for this sorting algorithm will be  arranging of deck of cards\n",
      " From what I observed in the examples, it is really understandable to me and it is very simple especially the codes.\n"
     ]
    }
   ],
   "source": [
    "print (\"Discuss your learnings on Chapter 13, Minimum of 200 characters\")\n",
    "\n",
    "print (\"I watched the tutorials on Chapter 13 and I learned something about Insertion Sort, which it discussed on tutorial video or in Computer Programming 2\")\n",
    "print (\" It is a simple sorting algorithm that is the best for small list. It is much less effcient on large lists than more advanced algorithms\")\n",
    "print (\"such as quicksort, heapsort or merge sort. The best example for this sorting algorithm will be  arranging of deck of cards\")\n",
    "print (\" From what I observed in the examples, it is really understandable to me and it is very simple especially the codes.\")"
   ]
  },
  {
   "cell_type": "code",
   "execution_count": 3,
   "id": "passive-thickness",
   "metadata": {},
   "outputs": [
    {
     "name": "stdout",
     "output_type": "stream",
     "text": [
      "Discuss your learnings on Chapter 14, Minimum of 200 characters\n",
      "I watched the tutorials on Chapter 14 and I learned something about Merge Sort, which is much better than insertion sort, bubble sort, etc.\n",
      "In this sorting algorithm, it gives time complexity of O nlogn, also it is one of the most respective algorithms. Unlike Insertion Sort\n",
      "Merge Sort first divides the array into equal halves like making it a tree snd then combines them in a sorted manner. From what I observed, this sorting algorithm is quite handy to me\n",
      "whenever I want to sort them in a fast way. Also the codes on the video which I practiced them for knowledge, it is working perfectly.\n"
     ]
    }
   ],
   "source": [
    "print (\"Discuss your learnings on Chapter 14, Minimum of 200 characters\")\n",
    "\n",
    "print (\"I watched the tutorials on Chapter 14 and I learned something about Merge Sort, which is much better than insertion sort, bubble sort, etc.\")\n",
    "print(\"In this sorting algorithm, it gives time complexity of O nlogn, also it is one of the most respective algorithms. Unlike Insertion Sort\")\n",
    "print(\"Merge Sort first divides the array into equal halves like making it a tree snd then combines them in a sorted manner. From what I observed, this sorting algorithm is quite handy to me\")\n",
    "print(\"whenever I want to sort them in a fast way. Also the codes on the video which I practiced them for knowledge, it is working perfectly.\")"
   ]
  },
  {
   "cell_type": "code",
   "execution_count": 1,
   "id": "spanish-moore",
   "metadata": {},
   "outputs": [
    {
     "name": "stdout",
     "output_type": "stream",
     "text": [
      "Discuss your learnings on Chapter 15, Minimum of 200 characters\n",
      "I watched the tutorials on Chapter 15 and I learned something about Shell Sort, that is a customization over insertion sort,\n",
      "In other words, Shell Sort will initially sort subarrays that re equal distance apart. So, the distance there is referred to as a gap\n",
      "In this sorting algorithm, it avoids large shifts as in case of insertion sort, if the smaller value is to the far right\n",
      "and has to be moved to the far left, just like it said on the video. But this tutorials really helps me to understand about this\n",
      "sorting algorithm, I really tried to test the code of it but it works and it is really worth it.\n"
     ]
    }
   ],
   "source": [
    "print (\"Discuss your learnings on Chapter 15, Minimum of 200 characters\")\n",
    "\n",
    "print (\"I watched the tutorials on Chapter 15 and I learned something about Shell Sort, that is a customization over insertion sort,\")\n",
    "print(\"In other words, Shell Sort will initially sort subarrays that re equal distance apart. So, the distance there is referred to as a gap\")\n",
    "print (\"In this sorting algorithm, it avoids large shifts as in case of insertion sort, if the smaller value is to the far right\")\n",
    "print(\"and has to be moved to the far left, just like it said on the video. But this tutorials really helps me to understand about this\")\n",
    "print(\"sorting algorithm, I really tried to test the code of it but it works and it is really worth it.\")"
   ]
  },
  {
   "cell_type": "code",
   "execution_count": 2,
   "id": "involved-drill",
   "metadata": {},
   "outputs": [
    {
     "name": "stdout",
     "output_type": "stream",
     "text": [
      "Discuss your learnings on Chapter 16, Minimum of 200 characters\n",
      "I watched the tutorials on Chapter 16 and I learned something about Selection Sort, but this sorting algorithm is really simple for sorting\n",
      "Unlike any other sorting algorithm, but this is a simple sorting and it is really easy to understand. It selects the smallest element\n",
      "from an unsorted list in each iteration and places that element at the beginning of the unsorted list. By comparing each element in either if\n",
      "is bigger or smaller, if it is bigger then put it as a minimum. This tutorials really helps me and it might be useful in the future days.\n"
     ]
    }
   ],
   "source": [
    "print (\"Discuss your learnings on Chapter 16, Minimum of 200 characters\")\n",
    "\n",
    "print (\"I watched the tutorials on Chapter 16 and I learned something about Selection Sort, but this sorting algorithm is really simple for sorting\")\n",
    "print (\"Unlike any other sorting algorithm, but this is a simple sorting and it is really easy to understand. It selects the smallest element\")\n",
    "print (\"from an unsorted list in each iteration and places that element at the beginning of the unsorted list. By comparing each element in either if\")\n",
    "print(\"is bigger or smaller, if it is bigger then put it as a minimum. This tutorials really helps me and it might be useful in the future days.\")"
   ]
  },
  {
   "cell_type": "code",
   "execution_count": 3,
   "id": "weighted-french",
   "metadata": {},
   "outputs": [
    {
     "name": "stdout",
     "output_type": "stream",
     "text": [
      "Disciss your learnings on Chapter 17, Minimum of 200 characters\n",
      "I watched the tutorials on Chapter 17, and I learned something about Recursion, Recursion is very important concepts when it comes to solving problems in mathematics, \n",
      "also in this data structure. In any problem that can be divided into further small and simpler problem can be solved using a recursion. The examples of such problemas are \n",
      "Towers of Hanoi TOH, Tree Traversals, DFA of Graph and many others. Also it has ability to solve the problem by calling itself\n",
      "The tutorials really gives me some knowledge about Recursion also the codes of it is really confusing. By studying the codes it makes me understand more. \n"
     ]
    }
   ],
   "source": [
    "print (\"Disciss your learnings on Chapter 17, Minimum of 200 characters\")\n",
    "\n",
    "print (\"I watched the tutorials on Chapter 17, and I learned something about Recursion, Recursion is very important concepts when it comes to solving problems in mathematics, \")\n",
    "print(\"also in this data structure. In any problem that can be divided into further small and simpler problem can be solved using a recursion. The examples of such problemas are \")\n",
    "print (\"Towers of Hanoi TOH, Tree Traversals, DFA of Graph and many others. Also it has ability to solve the problem by calling itself\")\n",
    "print (\"The tutorials really gives me some knowledge about Recursion also the codes of it is really confusing. By studying the codes it makes me understand more. \")"
   ]
  },
  {
   "cell_type": "code",
   "execution_count": 9,
   "id": "applied-feelings",
   "metadata": {},
   "outputs": [
    {
     "name": "stdout",
     "output_type": "stream",
     "text": [
      "Answer the following questions:\n",
      "1. Implement the simple methods get_num and get_den that will return the numerator and denominator of a fraction\n",
      "and denominator of a fraction.\n",
      "3/4\n",
      "3\n",
      "4\n"
     ]
    }
   ],
   "source": [
    "print (\"Answer the following questions:\")\n",
    "\n",
    "print (\"1. Implement the simple methods get_num and get_den that will return the numerator and denominator of a fraction\")\n",
    "print (\"and denominator of a fraction.\")\n",
    "\n",
    "\n",
    "class Fraction:\n",
    "\n",
    "    def __init__(self, top, bottom):\n",
    "\n",
    "        self.num = top        # the numerator is on top\n",
    "        self.den = bottom     # the denominator is on the bottom\n",
    "\n",
    "    def __str__(self):\n",
    "        return str(self.num) + \"/\" + str(self.den)\n",
    "\n",
    "    def getNum(self):\n",
    "        return self.num\n",
    "\n",
    "    def getDen(self):\n",
    "        return self.den\n",
    "\n",
    "myfraction = Fraction(3, 4)\n",
    "print(myfraction)\n",
    "\n",
    "print(myfraction.getNum())\n",
    "print(myfraction.getDen())\n",
    "\n",
    "\n"
   ]
  },
  {
   "cell_type": "code",
   "execution_count": 23,
   "id": "standard-chaos",
   "metadata": {},
   "outputs": [
    {
     "name": "stdout",
     "output_type": "stream",
     "text": [
      "2. Research the __radd__ method. How does it differ from __add__?\n",
      " When is it used? Implement __radd__\n",
      "__radd__ is only called if the left object does not have an __add__ method, or that method\n",
      "does not know how to add the two objects (which it flags by returning NotImplemented\n",
      "Both classes have an __add__ method, which do not return NotImplemented. Therefore the\n",
      "__radd__ method would never be called.\n",
      "It is differ from add because add only __add__ works on another int, so it returns a value for the inner + inside the __radd__\n",
      "which you return, which returns a value for the + inside __add__, which you return, which returns a value for the top-level +, which you print\n"
     ]
    }
   ],
   "source": [
    "print (\"2. Research the __radd__ method. How does it differ from __add__?\")\n",
    "print(\" When is it used? Implement __radd__\")\n",
    "\n",
    "print(\"__radd__ is only called if the left object does not have an __add__ method, or that method\")\n",
    "print(\"does not know how to add the two objects (which it flags by returning NotImplemented\")\n",
    "print(\"Both classes have an __add__ method, which do not return NotImplemented. Therefore the\")\n",
    "print(\"__radd__ method would never be called.\")\n",
    "print(\"It is differ from add because add only __add__ works on another int, so it returns a value for the inner + inside the __radd__\")\n",
    "print(\"which you return, which returns a value for the + inside __add__, which you return, which returns a value for the top-level +, which you print\")\n",
    "\n",
    "def __radd__(self, other):\n",
    "    newnum = self.num * other.den + \\\n",
    "                 self.den * other.num\n",
    "    newden = self.den * other.den\n",
    "    return Fraction(newnum, newden)"
   ]
  },
  {
   "cell_type": "code",
   "execution_count": 27,
   "id": "visible-modern",
   "metadata": {},
   "outputs": [
    {
     "name": "stdout",
     "output_type": "stream",
     "text": [
      "3. Research the _repr_ method. How does it differ from _str_? When is it used? Implement _repr_.\n",
      "__repr__ goal is to be unambiguous\n",
      "This is mostly a surprise because Python’s defaults tend to be fairly useful. However, in this case, having a default for __repr__ which would act like:\n",
      "Alex summarized well but, surprisingly, was too succinct. would have been too dangerous (for example, too easy to get into infinite recursion if objects\n",
      "reference each other). So Python cops out. Note that there is one default which is true: if\n",
      "__repr__ is defined, and __str__ is not, the object will behave as though __str__=__repr__.\n",
      "This means, in simple terms: almost every object you implement should have a functional\n",
      "__repr__ that’s usable for understanding the object. Implementing __str__ is optional: do that if\n",
      "you need a “pretty print” functionality (for example, used by a report generator\n",
      "\n",
      " It is differ from str because it is readable, also it returns a nice string for printing\n",
      "Also it chops off useless digits, pretend to be some other class — as long is it supports readability, it is an improvement.\n"
     ]
    },
    {
     "data": {
      "text/plain": [
       "'datetime.datetime(2021, 5, 17, 15, 32, 34, 273327)'"
      ]
     },
     "execution_count": 27,
     "metadata": {},
     "output_type": "execute_result"
    }
   ],
   "source": [
    "print (\"3. Research the _repr_ method. How does it differ from _str_? When is it used? Implement _repr_.\")\n",
    "\n",
    "print(\"__repr__ goal is to be unambiguous\")\n",
    "print(\"This is mostly a surprise because Python’s defaults tend to be fairly useful. However, in this case, having a default for __repr__ which would act like:\")\n",
    "print(\"Alex summarized well but, surprisingly, was too succinct. would have been too dangerous (for example, too easy to get into infinite recursion if objects\")\n",
    "print(\"reference each other). So Python cops out. Note that there is one default which is true: if\")\n",
    "print(\"__repr__ is defined, and __str__ is not, the object will behave as though __str__=__repr__.\")\n",
    "print(\"This means, in simple terms: almost every object you implement should have a functional\")\n",
    "print(\"__repr__ that’s usable for understanding the object. Implementing __str__ is optional: do that if\")\n",
    "print(\"you need a “pretty print” functionality (for example, used by a report generator\")\n",
    "\n",
    "print(\"\\n It is differ from str because it is readable, also it returns a nice string for printing\")\n",
    "print(\"Also it chops off useless digits, pretend to be some other class — as long is it supports readability, it is an improvement.\")\n",
    "\n",
    "import datetime\n",
    "today = datetime.datetime.now()\n",
    "\n",
    "\n",
    "repr(today)\n",
    "\n",
    "\n",
    "\n"
   ]
  },
  {
   "cell_type": "code",
   "execution_count": 29,
   "id": "starting-alarm",
   "metadata": {},
   "outputs": [
    {
     "name": "stdout",
     "output_type": "stream",
     "text": [
      "4. The most simpe arithmetic circuit is known as the half adder. Research the simple half-adder circuit. Implement this circuit.\n",
      "\n",
      "Half Adder is a combinational logic circuit which is designed by connecting one EX-\n",
      "OR gate and one AND gate. The half adder circuit has two inputs: A and B, which add\n",
      "two input digits and generates a carry and a sum.\n",
      "\n",
      "Sum  1\n",
      "Carry 0\n"
     ]
    }
   ],
   "source": [
    "print (\"4. The most simple arithmetic circuit is known as the half adder. Research the simple half-adder circuit. Implement this circuit.\")\n",
    "\n",
    "print (\"\\nHalf Adder is a combinational logic circuit which is designed by connecting one EX-\")\n",
    "print (\"OR gate and one AND gate. The half adder circuit has two inputs: A and B, which add\")\n",
    "print (\"two input digits and generates a carry and a sum.\\n\")\n",
    "\n",
    "# Function to print sum and carry\n",
    "def getResult(A, B):\n",
    "    \n",
    "    # Calculating value of sum\n",
    "    Sum = A ^ B\n",
    "      \n",
    "    # Calculating value of Carry\n",
    "    Carry = A & B\n",
    "      \n",
    "    # printing the values\n",
    "    print(\"Sum \", Sum)\n",
    "    print(\"Carry\", Carry)\n",
    "  \n",
    "  \n",
    "# Driver code\n",
    "A = 0\n",
    "B = 1\n",
    "  \n",
    "# passing two inputs of halfadder as arguements to get result function\n",
    "getResult(A, B)"
   ]
  },
  {
   "cell_type": "code",
   "execution_count": 37,
   "id": "silent-bowling",
   "metadata": {},
   "outputs": [
    {
     "name": "stdout",
     "output_type": "stream",
     "text": [
      "Design a class to represent a playing card and another one to represent a deck of\n",
      "cards. Using these two classes, implement your favorite card game.\n"
     ]
    }
   ],
   "source": [
    "print(\"5. Design a class to represent a playing card and another one to represent a deck of\")\n",
    "print(\"cards. Using these two classes, implement your favorite card game.\")\n",
    "\n",
    "import turtle\n",
    "import time\n",
    "import random\n",
    "\n",
    "wn = turtle.Screen()\n",
    "wn.bgcolor(\"black\")\n",
    "wn.setup(800, 600)\n",
    "wn.title(\"Deck of Cards Simulator\")\n",
    "\n",
    "pen = turtle.Turtle()\n",
    "pen.speed(0)\n",
    "pen.hideturtle()\n",
    "\n",
    "\n",
    "# Create classes\n",
    "class Card():\n",
    "    def __init__(self, name, suit):\n",
    "        self.name = name\n",
    "        self.suit = suit\n",
    "        self.symbols = {\"D\":\"♦\", \"C\":\"♣\", \"H\":\"♥\", \"S\":\"♠\"}\n",
    "        \n",
    "    def print_card(self):\n",
    "        print(f\"{self.name}{self.symbols[self.suit]}\")\n",
    "        \n",
    "    def render(self, x, y, pen):\n",
    "        # Draw border\n",
    "        pen.penup()\n",
    "        pen.goto(x, y)\n",
    "        pen.color(\"blue\")\n",
    "        pen.goto(x-50, y+75)\n",
    "        pen.begin_fill()\n",
    "        pen.pendown()\n",
    "        pen.goto(x+50, y+75)\n",
    "        pen.goto(x+50, y-75)\n",
    "        pen.goto(x-50, y-75)\n",
    "        pen.goto(x-50, y+75)\n",
    "        pen.end_fill()\n",
    "        pen.penup()\n",
    "        \n",
    "        if self.name != \"\":\n",
    "            # Draw suit in the middle\n",
    "            pen.color(\"white\")\n",
    "            pen.goto(x-18, y-30)\n",
    "            pen.write(self.symbols[self.suit], False, font=(\"Courier New\", 48, \"normal\"))\n",
    "            \n",
    "            # Draw top left \n",
    "            pen.goto(x-40, y+45)\n",
    "            pen.write(self.name, False, font=(\"Courier New\", 18, \"normal\"))\n",
    "            pen.goto(x-40, y+25)\n",
    "            pen.write(self.symbols[self.suit], False, font=(\"Courier New\", 18, \"normal\"))\n",
    "            \n",
    "            # Draw bottom right\n",
    "            pen.goto(x+30, y-60)\n",
    "            pen.write(self.name, False, font=(\"Courier New\", 18, \"normal\"))\n",
    "            pen.goto(x+30, y-80)\n",
    "            pen.write(self.symbols[self.suit], False, font=(\"Courier New\", 18, \"normal\"))\n",
    "            \n",
    "class Deck():\n",
    "    def __init__(self):\n",
    "        self.cards = []\n",
    "        \n",
    "        names = (\"A\", \"K\", \"Q\", \"J\", \"T\", \"9\", \"8\", \"7\", \"6\", \"5\", \"4\", \"3\", \"2\")\n",
    "        suits = (\"D\", \"C\", \"H\", \"S\")\n",
    "        \n",
    "        for name in names:\n",
    "            for suit in suits:\n",
    "                card = Card(name, suit)\n",
    "                self.cards.append(card)\n",
    "\n",
    "    def shuffle(self):\n",
    "        random.shuffle(self.cards)\n",
    "\n",
    "    def get_card(self):\n",
    "        card = self.cards.pop()\n",
    "        return card\n",
    "        \n",
    "    def reset(self):\n",
    "        self.cards = []\n",
    "        \n",
    "        names = (\"A\", \"K\", \"Q\", \"J\", \"T\", \"9\", \"8\", \"7\", \"6\", \"5\", \"4\", \"3\", \"2\")\n",
    "        suits = (\"D\", \"C\", \"H\", \"S\")\n",
    "        \n",
    "        for name in names:\n",
    "            for suit in suits:\n",
    "                card = Card(name, suit)\n",
    "                self.cards.append(card)\n",
    "        \n",
    "        self.shuffle()\n",
    "        \n",
    "# Create deck                \n",
    "deck = Deck()\n",
    "\n",
    "# Shuffle deck\n",
    "deck.reset()\n",
    "\n",
    "# Render 5 cards (back) in a row\n",
    "start_x = -250\n",
    "for x in range(5):\n",
    "    card = Card(\"\", \"\")\n",
    "    card.render(start_x + x * 125, 0, pen)\n",
    "\n",
    "time.sleep(5)\n",
    "\n",
    "# Render 5 cards in a row\n",
    "start_x = -250\n",
    "for x in range(5):\n",
    "    card = deck.get_card()\n",
    "    card.render(start_x + x * 125, 0, pen)\n",
    "\n",
    "wn.mainloop()\n",
    "    "
   ]
  },
  {
   "cell_type": "code",
   "execution_count": 40,
   "id": "requested-parking",
   "metadata": {},
   "outputs": [
    {
     "name": "stdout",
     "output_type": "stream",
     "text": [
      "Design and implement an experiment to do benchmark comparisons of the two\n",
      "queue(enqueue,dequeue) implementations. What can you learn from such an experiment?\n",
      "\n",
      "From this experiment, I learned that queue creates a new queue. Also it needs no parameters and returns an empty queue.\n",
      "Enqueue adds a new item to the rear of the queue. Also, it needs the item and returns nothing. \n",
      "And dequeue removes the front item from the queue. It needs no parameters and retuns the item.\n"
     ]
    }
   ],
   "source": [
    "print (\"6. Design and implement an experiment to do benchmark comparisons of the two\")\n",
    "print (\"queue(enqueue,dequeue) implementations. What can you learn from such an experiment?\")\n",
    "print (\"\\nFrom this experiment, I learned that queue creates a new queue. Also it needs no parameters and returns an empty queue.\")\n",
    "print (\"Enqueue adds a new item to the rear of the queue. Also, it needs the item and returns nothing. \")\n",
    "print(\"And dequeue removes the front item from the queue. It needs no parameters and retuns the item.\")\n",
    "\n",
    "class Queue:\n",
    "    def __init__(self):\n",
    "        self.items = []\n",
    "    def is_empty(self): return self.items == []\n",
    "\n",
    "    def enqueue(self, item):\n",
    "        self.items.insert(0,item)\n",
    "\n",
    "    def dequeue(self): return self.items.pop()\n",
    "\n",
    "    def size(self): return len(self.items)\n"
   ]
  },
  {
   "cell_type": "code",
   "execution_count": 7,
   "id": "final-asian",
   "metadata": {},
   "outputs": [
    {
     "name": "stdout",
     "output_type": "stream",
     "text": [
      "7. Consider a real life situation. Formulate a question and then design a simulation that \n",
      "can help to answer it. Possible situations include:\n",
      "-Cars lined up at a car wash\n",
      "-Customers at a grocery store check-out\n",
      "-Airplanes taking off and landing on a runway\n",
      "A bank teller\n",
      "Be sure to state any assumptions that you make and provide any probabilistic data\n",
      "that must be considered as part of the scenario.\n",
      "\n",
      "\n",
      "-Cars lined up at a car wash\n",
      "This program will simulate a car wash,or If I was a Car washer guy. The data structure used is a queue \n",
      "implemented as a linked list. Vehicles arrive at the car wash and wait in line. The \n",
      "probability that a vehicle will arrive at any given moment is 23%. The probability of \n",
      "that vehicle being a SUV is 32%. It takes 3 minutes to wash a car and 5 minutes to \n",
      "wash a SUV. It costs $10 to wash a car and $15 to wash a SUV. A car cannot enter the \n",
      "wash until the car ahead of it leaves. Run the simulation for 8 hours. There must be a\n",
      "class for the vehicles and a driver class. (no pun intended).\n",
      "The output of the program should be:\n",
      "\n",
      "Cars Washed: ------ Car Revenue: $------\n",
      "SUVs Washed: ------ SUV Revenue $------\n",
      "Total Revenue: $-------\n",
      "Vehicles left in queue at closing time -----\n",
      "\n",
      "-Customers at a grocery store check-out\n",
      "A queue is like a check-out line at a grocery store. Customers enter at the end of the\n",
      "line and exit from the front of the line when they are served by the checkout clerk. (It\n",
      "is like a line at a very fussy store, because customers cannot leave from the middle of \n",
      "the line, or jump ahead to join their spouse or friend.\n",
      "\n",
      " -Airplanes taking off and landing on a runway\n",
      "The airport has three runways, runway 1, runway 2, and runway 3. There are four \n",
      "landing holding patterns, two for each of the first two runways. Arriving planes will \n",
      "enter one of the holding pattern queues, where the queues are to be as close in size \n",
      "as possible. When a plane enters a holding queue, it is assigned an integer id number \n",
      "and an integer giving the number of time units the plane can remain in the queue \n",
      "before it must land (because of low fuel level). There is also a queue for takeoffs for \n",
      "each of the three runways. Planes arriving in a takeoff queue are also assigned an \n",
      "integer id. The takeoff queues should be kept approximately the same size.\n",
      "At each time, up to three planes may arrive at the landing queues and up to three planes may arrive at the takeoff queues. Each runway can handle one takeoff or landing at each time slot. Runway 3 is to be used for takeoffs except when a plane is low on fuel. At each time unit, planes in either landing queue whose airtime has reached zero must be given priority over other landings and takeoffs. If only one plane is in this category, runway 3 is to be used. If more than one, then the other runways are also used (at each time, at most three planes can be serviced in this way).\n",
      "\n",
      " A bank teller\n",
      "If I was a bank teller then we need to know the approximate times when customers arrive and how long their transactions take. Then we can write a simulator that randomly generates people coming into a bank doing transactions, and we can see how the number of tellers impacts how long people wait, and how long tellers are idle. This will let us make a decision about the optimal number of tellers.\n",
      "we can easily calculate the average waiting time for people -- zero for persons 0, 1, and 3, and 1.4 minutes for person 2, so the average waiting time is .35 minutes. We can also calculate the tellers' idle time. Teller 1 waits 1.5 minutes for the first person and 2 minutes for the second person. Teller 2 waits 2.8 minutes for the first person and 0 minutes for the second person. \n",
      "Depending on the length, we might also say that Teller 1 waits for some amount of time after their second person leaves. In this case let's assume that the bank closes at 12.0 minutes. Then Teller 1 waits for .1 minutes after the second person leaves. The idle time for teller 1 is 3.6 minutes and for teller 2 is 2.8 minutes. The average idle time is 3.2 minutes.\n"
     ]
    }
   ],
   "source": [
    "print(\"7. Consider a real life situation. Formulate a question and then design a simulation that \")\n",
    "print(\"can help to answer it. Possible situations include:\")\n",
    "print(\"-Cars lined up at a car wash\")\n",
    "print(\"-Customers at a grocery store check-out\")\n",
    "print(\"-Airplanes taking off and landing on a runway\")\n",
    "print(\"A bank teller\")\n",
    "print(\"Be sure to state any assumptions that you make and provide any probabilistic data\")\n",
    "print(\"that must be considered as part of the scenario.\\n\")\n",
    "\n",
    "print (\"\\n-Cars lined up at a car wash\")\n",
    "print (\"This program will simulate a car wash,or If I was a Car washer guy. The data structure used is a queue \")\n",
    "print(\"implemented as a linked list. Vehicles arrive at the car wash and wait in line. The \")\n",
    "print(\"probability that a vehicle will arrive at any given moment is 23%. The probability of \")\n",
    "print(\"that vehicle being a SUV is 32%. It takes 3 minutes to wash a car and 5 minutes to \")\n",
    "print(\"wash a SUV. It costs $10 to wash a car and $15 to wash a SUV. A car cannot enter the \")\n",
    "print(\"wash until the car ahead of it leaves. Run the simulation for 8 hours. There must be a\")\n",
    "print(\"class for the vehicles and a driver class. (no pun intended).\")\n",
    "print(\"The output of the program should be:\")\n",
    "\n",
    "print(\"\\nCars Washed: ------ Car Revenue: $------\")\n",
    "print(\"SUVs Washed: ------ SUV Revenue $------\")\n",
    "print(\"Total Revenue: $-------\")\n",
    "print(\"Vehicles left in queue at closing time -----\")\n",
    "\n",
    "print(\"\\n-Customers at a grocery store check-out\")\n",
    "print(\"A queue is like a check-out line at a grocery store. Customers enter at the end of the\")\n",
    "print(\"line and exit from the front of the line when they are served by the checkout clerk. (It\")\n",
    "print(\"is like a line at a very fussy store, because customers cannot leave from the middle of \")\n",
    "print(\"the line, or jump ahead to join their spouse or friend.\")\n",
    "\n",
    "print(\"\\n -Airplanes taking off and landing on a runway\")\n",
    "print(\"The airport has three runways, runway 1, runway 2, and runway 3. There are four \")\n",
    "print(\"landing holding patterns, two for each of the first two runways. Arriving planes will \")\n",
    "print(\"enter one of the holding pattern queues, where the queues are to be as close in size \")\n",
    "print(\"as possible. When a plane enters a holding queue, it is assigned an integer id number \")\n",
    "print(\"and an integer giving the number of time units the plane can remain in the queue \")\n",
    "print(\"before it must land (because of low fuel level). There is also a queue for takeoffs for \")\n",
    "print(\"each of the three runways. Planes arriving in a takeoff queue are also assigned an \")\n",
    "print(\"integer id. The takeoff queues should be kept approximately the same size.\")\n",
    "print(\"At each time, up to three planes may arrive at the landing queues and up to three planes may arrive at the takeoff queues. Each runway can handle one takeoff or landing at each time slot. Runway 3 is to be used for takeoffs except when a plane is low on fuel. At each time unit, planes in either landing queue whose airtime has reached zero must be given priority over other landings and takeoffs. If only one plane is in this category, runway 3 is to be used. If more than one, then the other runways are also used (at each time, at most three planes can be serviced in this way).\")\n",
    "\n",
    "print(\"\\n A bank teller\")\n",
    "print(\"If I was a bank teller then we need to know the approximate times when customers arrive and how long their transactions take. Then we can write a simulator that randomly generates people coming into a bank doing transactions, and we can see how the number of tellers impacts how long people wait, and how long tellers are idle. This will let us make a decision about the optimal number of tellers.\")\n",
    "print(\"we can easily calculate the average waiting time for people -- zero for persons 0, 1, and 3, and 1.4 minutes for person 2, so the average waiting time is .35 minutes. We can also calculate the tellers' idle time. Teller 1 waits 1.5 minutes for the first person and 2 minutes for the second person. Teller 2 waits 2.8 minutes for the first person and 0 minutes for the second person. \")\n",
    "print(\"Depending on the length, we might also say that Teller 1 waits for some amount of time after their second person leaves. In this case let's assume that the bank closes at 12.0 minutes. Then Teller 1 waits for .1 minutes after the second person leaves. The idle time for teller 1 is 3.6 minutes and for teller 2 is 2.8 minutes. The average idle time is 3.2 minutes.\")\n",
    "\n"
   ]
  },
  {
   "cell_type": "code",
   "execution_count": 41,
   "id": "forty-upgrade",
   "metadata": {},
   "outputs": [
    {
     "name": "stdout",
     "output_type": "stream",
     "text": [
      "8. Implement a queue using linked lists.\n"
     ]
    },
    {
     "ename": "NameError",
     "evalue": "name '_name__' is not defined",
     "output_type": "error",
     "traceback": [
      "\u001b[1;31m---------------------------------------------------------------------------\u001b[0m",
      "\u001b[1;31mNameError\u001b[0m                                 Traceback (most recent call last)",
      "\u001b[1;32m<ipython-input-41-a833dbbcb4aa>\u001b[0m in \u001b[0;36m<module>\u001b[1;34m\u001b[0m\n\u001b[0;32m     41\u001b[0m \u001b[1;33m\u001b[0m\u001b[0m\n\u001b[0;32m     42\u001b[0m \u001b[1;31m# Driver Code\u001b[0m\u001b[1;33m\u001b[0m\u001b[1;33m\u001b[0m\u001b[1;33m\u001b[0m\u001b[0m\n\u001b[1;32m---> 43\u001b[1;33m \u001b[1;32mif\u001b[0m \u001b[0m_name__\u001b[0m\u001b[1;33m==\u001b[0m \u001b[1;34m'__main_'\u001b[0m\u001b[1;33m:\u001b[0m\u001b[1;33m\u001b[0m\u001b[1;33m\u001b[0m\u001b[0m\n\u001b[0m\u001b[0;32m     44\u001b[0m     \u001b[0mq\u001b[0m \u001b[1;33m=\u001b[0m \u001b[0mQueue\u001b[0m\u001b[1;33m(\u001b[0m\u001b[1;33m)\u001b[0m\u001b[1;33m\u001b[0m\u001b[1;33m\u001b[0m\u001b[0m\n\u001b[0;32m     45\u001b[0m     \u001b[0mq\u001b[0m\u001b[1;33m.\u001b[0m\u001b[0mEnQueue\u001b[0m\u001b[1;33m(\u001b[0m\u001b[1;36m10\u001b[0m\u001b[1;33m)\u001b[0m\u001b[1;33m\u001b[0m\u001b[1;33m\u001b[0m\u001b[0m\n",
      "\u001b[1;31mNameError\u001b[0m: name '_name__' is not defined"
     ]
    }
   ],
   "source": [
    "print(\"8. Implement a queue using linked lists.\")\n",
    "\n",
    "class Node:\n",
    "      \n",
    "    def __init__(self, data):\n",
    "        self.data = data\n",
    "        self.next = None\n",
    "  \n",
    "# A class to represent a queue\n",
    "  \n",
    "# The queue, front stores the front node\n",
    "# of LL and rear stores the last node of LL\n",
    "class Queue:\n",
    "      \n",
    "    def __init__(self):\n",
    "        self.front = self.rear = None\n",
    "  \n",
    "    def isEmpty(self):\n",
    "        return self.front == None\n",
    "      \n",
    "    # Method to add an item to the queue\n",
    "    def EnQueue(self, item):\n",
    "        temp = Node(item)\n",
    "          \n",
    "        if self.rear == None:\n",
    "            self.front = self.rear = temp\n",
    "            return\n",
    "        self.rear.next = temp\n",
    "        self.rear = temp\n",
    "  \n",
    "    # Method to remove an item from queue\n",
    "    def DeQueue(self):\n",
    "          \n",
    "        if self.isEmpty():\n",
    "            return\n",
    "        temp = self.front\n",
    "        self.front = temp.next\n",
    "  \n",
    "        if(self.front == None):\n",
    "            self.rear = None\n",
    "  \n",
    "# Driver Code\n",
    "if _name__== '__main_':\n",
    "    q = Queue()\n",
    "    q.EnQueue(10)\n",
    "    q.EnQueue(20)\n",
    "    q.DeQueue()\n",
    "    q.DeQueue()\n",
    "    q.EnQueue(30)\n",
    "    q.EnQueue(40)\n",
    "    q.EnQueue(50) \n",
    "    q.DeQueue()   \n",
    "    print(\"Queue Front \" + str(q.front.data))\n",
    "    print(\"Queue Rear \" + str(q.rear.data))\n",
    "    \n",
    "    ## Mu run na siya sa idle python"
   ]
  },
  {
   "cell_type": "code",
   "execution_count": null,
   "id": "convenient-manor",
   "metadata": {},
   "outputs": [],
   "source": [
    "print (\"9. Write a recursive function to compute the factorial of a number\")\n",
    "\n",
    "def recur_factorial(n):  \n",
    "   if n == 1:  \n",
    "       return n  \n",
    "   else:  \n",
    "       return n*recur_factorial(n-1)  \n",
    "# take input from the user  \n",
    "num = int(input(\"Enter a number: \"))  \n",
    "# check is the number is negative  \n",
    "if num < 0:  \n",
    "   print(\"Sorry, factorial does not exist for negative numbers\")  \n",
    "elif num == 0:  \n",
    "   print(\"The factorial of 0 is 1\")  \n",
    "else:  \n",
    "   print(\"The factorial of\",num,\"is\",recur_factorial(num))"
   ]
  },
  {
   "cell_type": "code",
   "execution_count": 42,
   "id": "romantic-revolution",
   "metadata": {},
   "outputs": [
    {
     "name": "stdout",
     "output_type": "stream",
     "text": [
      "10. Set up a random experiment to test the difference between a sequential search and a binary search on a list of integers. \n",
      "In the sequential search, when we compare against the first item, there are at most 𝑛 − 1 more items to look through if the first item is not what we are looking for.\n",
      "False\n",
      "True\n",
      "Instead of searching the list in sequence, a binary search will start by examining the middle item. If that item is the onewe are searching for, we are done. If it is not the correct item, we can use the ordered nature ofthe list to eliminate half of the remaining items. \n",
      "False\n",
      "True\n"
     ]
    }
   ],
   "source": [
    "print (\"10. Set up a random experiment to test the difference between a sequential search and a binary search on a list of integers. \")\n",
    "\n",
    "print (\"In the sequential search, when we compare against the first item, there are at most 𝑛 − 1 more items to look through if the first item is not what we are looking for.\")\n",
    "\n",
    "\n",
    "def sequential_search(a_list, item):\n",
    "  pos = 0\n",
    "  found = False\n",
    "\n",
    "  while pos < len(a_list) and not found:\n",
    "    if a_list[pos] == item:\n",
    "      found = True\n",
    "\n",
    "    else:\n",
    "        pos = pos+1\n",
    "\n",
    "  return found\n",
    "\n",
    "test_list = [1, 2, 32, 8, 17, 19, 42, 13, 0]\n",
    "print(sequential_search(test_list, 7))\n",
    "print(sequential_search(test_list, 42))\n",
    "\n",
    "print (\"Instead of searching the list in sequence, a binary search will start by examining the middle item. If that item is the onewe are searching for, we are done. If it is not the correct item, we can use the ordered nature ofthe list to eliminate half of the remaining items. \")\n",
    "\n",
    "def binary_search(a_list, item):\n",
    "   first = 0\n",
    "   last = len(a_list) - 1\n",
    "   found = False\n",
    "\n",
    "   while first <= last and not found:\n",
    "     midpoint = (first + last) // 2\n",
    "     if a_list[midpoint] == item:\n",
    "        found = True\n",
    "     else:\n",
    "        if item < a_list[midpoint]:\n",
    "          last = midpoint - 1\n",
    "        else:\n",
    "          first = midpoint + 1\n",
    "   return found\n",
    "\n",
    "test_list = [0, 1, 2, 8, 13, 17, 19, 32, 42,]\n",
    "print(binary_search(test_list, 3))\n",
    "print(binary_search(test_list, 13))\n",
    "\n",
    "\n"
   ]
  },
  {
   "cell_type": "code",
   "execution_count": 1,
   "id": "oriental-arrow",
   "metadata": {},
   "outputs": [
    {
     "name": "stdout",
     "output_type": "stream",
     "text": [
      "11.Suppose you are a computer scientist/art thief who has broken into a major art \n",
      "gallery. All you have with you to haul out your stolen art is your knapsack which only\n",
      "holds W pounds of art, but for every piece of art you know its value and its weight.\n",
      "Write a dynamic programming function to help you maximize your profit. Here is a\n",
      "sample problem for you to use to get started: Suppose your knapsack can hold a \n",
      "total weight of 20. You have 5 items as follows:\n"
     ]
    },
    {
     "ename": "NameError",
     "evalue": "name '_name_' is not defined",
     "output_type": "error",
     "traceback": [
      "\u001b[1;31m---------------------------------------------------------------------------\u001b[0m",
      "\u001b[1;31mNameError\u001b[0m                                 Traceback (most recent call last)",
      "\u001b[1;32m<ipython-input-1-99f48d4b2212>\u001b[0m in \u001b[0;36m<module>\u001b[1;34m\u001b[0m\n\u001b[0;32m     67\u001b[0m \u001b[1;33m\u001b[0m\u001b[0m\n\u001b[0;32m     68\u001b[0m \u001b[1;33m\u001b[0m\u001b[0m\n\u001b[1;32m---> 69\u001b[1;33m \u001b[1;32mif\u001b[0m \u001b[0m_name_\u001b[0m \u001b[1;33m==\u001b[0m \u001b[1;34m\"_main_\"\u001b[0m\u001b[1;33m:\u001b[0m\u001b[1;33m\u001b[0m\u001b[1;33m\u001b[0m\u001b[0m\n\u001b[0m\u001b[0;32m     70\u001b[0m     \u001b[0mmain\u001b[0m\u001b[1;33m(\u001b[0m\u001b[1;33m)\u001b[0m\u001b[1;33m\u001b[0m\u001b[1;33m\u001b[0m\u001b[0m\n\u001b[0;32m     71\u001b[0m \u001b[1;33m\u001b[0m\u001b[0m\n",
      "\u001b[1;31mNameError\u001b[0m: name '_name_' is not defined"
     ]
    }
   ],
   "source": [
    "print (\"11.Suppose you are a computer scientist/art thief who has broken into a major art \")\n",
    "print(\"gallery. All you have with you to haul out your stolen art is your knapsack which only\")\n",
    "print(\"holds W pounds of art, but for every piece of art you know its value and its weight.\")\n",
    "print(\"Write a dynamic programming function to help you maximize your profit. Here is a\")\n",
    "print(\"sample problem for you to use to get started: Suppose your knapsack can hold a \")\n",
    "print(\"total weight of 20. You have 5 items as follows:\")\n",
    "\n",
    "\n",
    "class StolenItem:\n",
    "    def __init__(self, theID, theValue, theWeight):\n",
    "        self.ID = theID\n",
    "        self.value = theValue\n",
    "        self.weight = theWeight\n",
    "\n",
    "\n",
    "def dpMaxProfit(itemList, knapWeight, maxProfits, weightsUsed):\n",
    "    maxProfit = 0\n",
    "\n",
    "    for knapWeights in range(knapWeight + 1):\n",
    "        print(\"KNAPWEIGHT:\", knapWeights - 1, \" \", maxProfits)\n",
    "        newItem = itemList[0]\n",
    "\n",
    "        for item in [x for x in itemList if x.weight <= knapWeights]:\n",
    "            if maxProfits[knapWeights - item.weight] + item.value > maxProfit:\n",
    "                maxProfit = maxProfits[knapWeights - item.weight] + item.value\n",
    "                newItem = item\n",
    "        maxProfits[knapWeights] = maxProfit\n",
    "        weightsUsed[knapWeights] = newItem.weight\n",
    "\n",
    "    return (maxProfits[knapWeight])\n",
    "\n",
    "\n",
    "def reMaxProfit(itemList, knapWeight):\n",
    "    if knapWeight < 1:\n",
    "        return 0\n",
    "\n",
    "    l1 = [x for x in itemList if x.weight <= knapWeight]\n",
    "    profitList = [(item.value + reMaxProfit(itemList, knapWeight - item.weight)) for item in l1]\n",
    "\n",
    "    if len(profitList) > 0:\n",
    "        return max(profitList)\n",
    "    else:\n",
    "        return 0\n",
    "\n",
    "\n",
    "def _weightsUsed(weightList, knapWeight):\n",
    "    weight = knapWeight\n",
    "    while weight > 0:\n",
    "        print(weightList[weight])\n",
    "        weight -= weightList[weight]\n",
    "\n",
    "\n",
    "recurse = True\n",
    "\n",
    "\n",
    "\n",
    "def main():\n",
    "    itemList = [StolenItem(1, 3, 2), StolenItem(2, 4, 3), StolenItem(3, 8, 4), StolenItem(4, 8, 5),\n",
    "                StolenItem(5, 10, 9)]\n",
    "    knapWeight = 20\n",
    "    if recurse:\n",
    "        maxProfits = [0] * (knapWeight + 1)\n",
    "        weightsUsed = [0] * (knapWeight + 1)\n",
    "        print(dpMaxProfit(itemList, knapWeight, maxProfits, weightsUsed))\n",
    "    else:\n",
    "        print(reMaxProfit(itemList, knapWeight))\n",
    "\n",
    "\n",
    "if _name_ == \"_main_\":\n",
    "    main()\n",
    "\n",
    "    #magrun siya sa idle or pycharm\n"
   ]
  },
  {
   "cell_type": "code",
   "execution_count": null,
   "id": "missing-elder",
   "metadata": {},
   "outputs": [],
   "source": []
  }
 ],
 "metadata": {
  "kernelspec": {
   "display_name": "Python 3",
   "language": "python",
   "name": "python3"
  },
  "language_info": {
   "codemirror_mode": {
    "name": "ipython",
    "version": 3
   },
   "file_extension": ".py",
   "mimetype": "text/x-python",
   "name": "python",
   "nbconvert_exporter": "python",
   "pygments_lexer": "ipython3",
   "version": "3.9.2"
  }
 },
 "nbformat": 4,
 "nbformat_minor": 5
}
